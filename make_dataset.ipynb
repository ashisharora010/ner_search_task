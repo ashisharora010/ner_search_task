{
 "cells": [
  {
   "cell_type": "code",
   "execution_count": 1,
   "id": "40b632a9",
   "metadata": {},
   "outputs": [],
   "source": [
    "import pandas as pd "
   ]
  },
  {
   "cell_type": "code",
   "execution_count": 2,
   "id": "e79171d8",
   "metadata": {},
   "outputs": [],
   "source": [
    "dataframe1 = pd.read_excel('data.xlsx')\n"
   ]
  },
  {
   "cell_type": "code",
   "execution_count": 3,
   "id": "1e1c2dc2",
   "metadata": {},
   "outputs": [
    {
     "data": {
      "text/plain": [
       "Index(['Name', 'Manufacturer', 'Salt', 'Label', 'Product_ID', 'Unnamed: 5',\n",
       "       'Unnamed: 6', 'Unnamed: 7'],\n",
       "      dtype='object')"
      ]
     },
     "execution_count": 3,
     "metadata": {},
     "output_type": "execute_result"
    }
   ],
   "source": [
    "dataframe1.columns"
   ]
  },
  {
   "cell_type": "code",
   "execution_count": 4,
   "id": "ab338b74",
   "metadata": {},
   "outputs": [],
   "source": [
    "productids = dataframe1.iloc[:, 4]"
   ]
  },
  {
   "cell_type": "markdown",
   "id": "0b7faf9f",
   "metadata": {},
   "source": [
    "## only salts"
   ]
  },
  {
   "cell_type": "code",
   "execution_count": 5,
   "id": "1f26a291",
   "metadata": {},
   "outputs": [],
   "source": [
    "salts = dataframe1.iloc[:,2]"
   ]
  },
  {
   "cell_type": "code",
   "execution_count": 6,
   "id": "660b4ed2",
   "metadata": {},
   "outputs": [
    {
     "data": {
      "text/plain": [
       "(274489,)"
      ]
     },
     "execution_count": 6,
     "metadata": {},
     "output_type": "execute_result"
    }
   ],
   "source": [
    "salts.shape"
   ]
  },
  {
   "cell_type": "code",
   "execution_count": 11,
   "id": "440b4b73",
   "metadata": {
    "collapsed": true,
    "jupyter": {
     "outputs_hidden": true
    }
   },
   "outputs": [
    {
     "data": {
      "text/plain": [
       "90                                    Hydroxyzine (10mg)\n",
       "91     Clobetasol (0.05% w/w) + Neomycin (0.5% w/w) +...\n",
       "92     Cetirizine (5mg) + Paracetamol (500mg) + Pseud...\n",
       "93                                  Ceftriaxone (1000mg)\n",
       "94                    Chlorhexidine Gluconate (0.2% w/v)\n",
       "95                                 Betamethasone (0.5mg)\n",
       "96                                      Acitretin (25mg)\n",
       "97                                    Hydroxyzine (10mg)\n",
       "98                                   Azathioprine (50mg)\n",
       "99             Aceclofenac (100mg) + Paracetamol (325mg)\n",
       "100    Diphenhydramine (12.5mg/5ml) + Ammonium Chlori...\n",
       "101                                  Doxycycline (100mg)\n",
       "102            Aceclofenac (100mg) + Paracetamol (500mg)\n",
       "103                                  Paracetamol (650mg)\n",
       "104             Domperidone (30mg) + Pantoprazole (40mg)\n",
       "105                           Octreotide acetate (100mg)\n",
       "106                                Tazarotene (0.1% w/w)\n",
       "107                                    Ceftriaxone (2gm)\n",
       "108                                     Cefixime (200mg)\n",
       "109                                     Etodolac (400mg)\n",
       "110                                     Amoxapine (50mg)\n",
       "111                                  Albendazole (400mg)\n",
       "112                                  Pantoprazole (40mg)\n",
       "113             Nimesulide (100mg) + Paracetamol (500mg)\n",
       "114                                  Pantoprazole (40mg)\n",
       "115               Ofloxacin (200mg) + Ornidazole (500mg)\n",
       "116                                      Quinine (300mg)\n",
       "117                                 Triamcinolone (40mg)\n",
       "118    Aceclofenac (100mg) + Paracetamol (500mg) + Se...\n",
       "119                                    Artesunate (60mg)\n",
       "120                                      Atenolol (50mg)\n",
       "121                                   Meropenem (1000mg)\n",
       "122            Gabapentin (400mg) + Nortriptyline (10mg)\n",
       "123    Hydroquinone (2% w/w) + Mometasone (0.1% w/w) ...\n",
       "124        Amoxycillin (500mg) + Clavulanic Acid (125mg)\n",
       "125                                   Prednisolone (5mg)\n",
       "126                                  Aceclofenac (100mg)\n",
       "127                                Prednisolone (1% w/v)\n",
       "128                            Lithium carbonate (300mg)\n",
       "129              Domperidone (30mg) + Rabeprazole (20mg)\n",
       "130          Amoxycillin (250mg) + Dicloxacillin (250mg)\n",
       "131    Ofloxacin (100mg) + Lactobacillus (60Million s...\n",
       "132                         Alpha-Beta Arteether (150mg)\n",
       "133               Etodolac (400mg) + Paracetamol (325mg)\n",
       "134             Ceftriaxone (1000mg) + Sulbactam (500mg)\n",
       "135                 Atorvastatin (10mg) + Aspirin (75mg)\n",
       "136                                    Pregabalin (25mg)\n",
       "137    Telmisartan (40mg) + Hydrochlorothiazide (12.5mg)\n",
       "138                Telmisartan (40mg) + Amlodipine (5mg)\n",
       "139           Acetylcysteine (300 mg) + Ambroxol (60 mg)\n",
       "140                                 Azithromycin (500mg)\n",
       "141                                   Telmisartan (40mg)\n",
       "142               Amlodipine (5mg) + Atorvastatin (10mg)\n",
       "143                   Amlodipine (5mg) + Atenolol (50mg)\n",
       "144            Levocetirizine (5mg) + Montelukast (10mg)\n",
       "145            Aceclofenac (100mg) + Paracetamol (500mg)\n",
       "146                    Atenolol (NA) + Atorvastatin (NA)\n",
       "147                                 Azithromycin (250mg)\n",
       "148                                   Telmisartan (20mg)\n",
       "149    Telmisartan (80mg) + Hydrochlorothiazide (12.5mg)\n",
       "Name: Salt, dtype: object"
      ]
     },
     "execution_count": 11,
     "metadata": {},
     "output_type": "execute_result"
    }
   ],
   "source": [
    "salts[90:150]"
   ]
  },
  {
   "cell_type": "code",
   "execution_count": 12,
   "id": "0b9c206d",
   "metadata": {},
   "outputs": [],
   "source": [
    "\n",
    "dict_salt =[]\n",
    "for i in range(len(salts)):\n",
    "    ind_salts = salts[i].split('+')\n",
    "    for j in range(len(ind_salts)):\n",
    "        dict_salt.append((ind_salts[j].split('(')[0].rstrip().lstrip().lower() , productids[i]))        \n",
    "            \n",
    "        \n",
    "        "
   ]
  },
  {
   "cell_type": "code",
   "execution_count": 25,
   "id": "ad90b3e2",
   "metadata": {},
   "outputs": [],
   "source": [
    "import pickle\n",
    "file1 = open('all_salts_all_milestone2_revised.pkl','wb')\n",
    "pickle.dump(dict_salt, file1)"
   ]
  },
  {
   "cell_type": "markdown",
   "id": "fa9c34ab",
   "metadata": {},
   "source": [
    "## only manufacturer"
   ]
  },
  {
   "cell_type": "code",
   "execution_count": 14,
   "id": "129e7e59",
   "metadata": {},
   "outputs": [],
   "source": [
    "manufacturers = dataframe1.iloc[:,1]\n"
   ]
  },
  {
   "cell_type": "code",
   "execution_count": 20,
   "id": "a9b22dc8",
   "metadata": {},
   "outputs": [],
   "source": [
    "all_mfs = []\n",
    "for i in range(len(manufacturers)):\n",
    "    for elem in manufacturers[i].lower().split():\n",
    "        char_remov = [\".\", \",\", \"-\", \"!\", \"(\" ,\"\"]\n",
    "        for char in char_remov:\n",
    "            # replace() \"returns\" an altered string\n",
    "            elem = elem.replace(char, \"\")\n",
    "        all_mfs.append((elem, productids[i]))"
   ]
  },
  {
   "cell_type": "code",
   "execution_count": 24,
   "id": "b00ac42c",
   "metadata": {},
   "outputs": [],
   "source": [
    "import pickle\n",
    "file1 = open('all_mfs_all_milestone2_revised.pkl','wb')\n",
    "pickle.dump(all_mfs, file1)"
   ]
  },
  {
   "cell_type": "markdown",
   "id": "8f91fb91",
   "metadata": {},
   "source": [
    "## only Names"
   ]
  },
  {
   "cell_type": "code",
   "execution_count": 33,
   "id": "389d05fc",
   "metadata": {},
   "outputs": [],
   "source": [
    "names = dataframe1.iloc[:,0]"
   ]
  },
  {
   "cell_type": "code",
   "execution_count": 34,
   "id": "29288d6a",
   "metadata": {},
   "outputs": [
    {
     "name": "stdout",
     "output_type": "stream",
     "text": [
      "274489\n"
     ]
    }
   ],
   "source": [
    "print(len(names))"
   ]
  },
  {
   "cell_type": "code",
   "execution_count": 35,
   "id": "85a45ba6",
   "metadata": {
    "collapsed": true,
    "jupyter": {
     "outputs_hidden": true
    }
   },
   "outputs": [
    {
     "data": {
      "text/plain": [
       "120                  A Lol 50mg Tablet\n",
       "121             A Pen 1000mg Injection\n",
       "122            A Gab 400mg/10mg Tablet\n",
       "123                      A Ret M Cream\n",
       "124         A Klave 500mg/125mg Tablet\n",
       "125                  A Pred 5mg Tablet\n",
       "126               A Niclo 100mg Tablet\n",
       "127                A Waylable Eye Drop\n",
       "128                A Lith 300mg Tablet\n",
       "129          A Rab D 30mg/20mg Capsule\n",
       "130           A DC 250mg/250mg Capsule\n",
       "131                A Flox 100mg Tablet\n",
       "132          A Artivid 150mg Injection\n",
       "133        A Tios P 400mg/325mg Tablet\n",
       "134    A Xon SB 1000mg/500mg Injection\n",
       "135              A1A 10mg/75mg Capsule\n",
       "136                        A2D Capsule\n",
       "137         A2B H 40 mg/12.5 mg Tablet\n",
       "138            A2B A 40 mg/5 mg Tablet\n",
       "139           A2H 300 mg/60 mg Capsule\n",
       "140                   A24 500mg Tablet\n",
       "141                    A2B 40mg Tablet\n",
       "142                 A2 5mg/10mg Tablet\n",
       "143               A2AT 5mg/50mg Tablet\n",
       "144                         A2D Tablet\n",
       "145             A2P 100mg/500mg Tablet\n",
       "146                          A2 Tablet\n",
       "147                   A24 250mg Tablet\n",
       "148                    A2B 20mg Tablet\n",
       "149                       A2B H Tablet\n",
       "Name: Name, dtype: object"
      ]
     },
     "execution_count": 35,
     "metadata": {},
     "output_type": "execute_result"
    }
   ],
   "source": [
    "names.iloc[120:150]"
   ]
  },
  {
   "cell_type": "code",
   "execution_count": 36,
   "id": "b0f8586a",
   "metadata": {},
   "outputs": [
    {
     "name": "stdout",
     "output_type": "stream",
     "text": [
      "strawberry,watermelon\n"
     ]
    }
   ],
   "source": [
    "all_names = []\n",
    "for i in range(len(names)):\n",
    "    for elem in names[i].lower().split():\n",
    "        for elem1 in elem.split('+'):\n",
    "            if \"-\" in elem1:\n",
    "                all_names.append((elem1.replace('-',''), productids[i]))\n",
    "                for elem3 in elem1.split('-'):\n",
    "                    all_names.append((elem3, productids[i]))\n",
    "                \n",
    "                \n",
    "            all_names.append((elem1, productids[i]))\n",
    "    temp_list_names= names[i].lower().split()    \n",
    "    if len(temp_list_names) >= 2:\n",
    "        if len(temp_list_names) >= 3:\n",
    "            \n",
    "            elem1 = temp_list_names[0] +  temp_list_names[1] + temp_list_names[2]\n",
    "            if \"-\" in elem1:\n",
    "                all_names.append((elem1.replace('-',''), productids[i]))\n",
    "            all_names.append((elem1, productids[i]))\n",
    "            \n",
    "            elem1 = temp_list_names[1] + temp_list_names[2]\n",
    "            if \"-\" in elem1:\n",
    "                all_names.append((elem1.replace('-',''), productids[i]))\n",
    "            all_names.append((elem1, productids[i]))\n",
    "        \n",
    "        elem1 = temp_list_names[0] +  temp_list_names[1] \n",
    "        if \"-\" in elem1:\n",
    "            all_names.append((elem1.replace('-',''), productids[i]))\n",
    "        all_names.append((elem1, productids[i]))\n",
    "        \n",
    "        "
   ]
  },
  {
   "cell_type": "code",
   "execution_count": 38,
   "id": "0eff56bf",
   "metadata": {},
   "outputs": [],
   "source": [
    "file1 = open('all_names_all_milestone2_revised.pkl', 'wb')\n",
    "pickle.dump(all_names, file1)"
   ]
  },
  {
   "cell_type": "markdown",
   "id": "df9b403a",
   "metadata": {},
   "source": [
    "# Creating one database"
   ]
  },
  {
   "cell_type": "code",
   "execution_count": null,
   "id": "08ded168",
   "metadata": {},
   "outputs": [],
   "source": [
    "all_names = []\n",
    "database = {}\n",
    "for i in range(len(names)):\n",
    "    text = \"\"\n",
    "    for elem in manufacturers[i].lower().split():\n",
    "        text = text + \" \" + elem\n",
    "        \n",
    "    for elem in names[i].lower().split():\n",
    "        for elem1 in elem.split('+'):\n",
    "            #all_names.append((elem1, productids[i]))\n",
    "            text = text + \" \" + elem1\n",
    "            \n",
    "    ind_salts = salts[i].split('+')\n",
    "    for j in range(len(ind_salts)):\n",
    "        text = text + \" \" + ind_salts[j].split('(')[0].rstrip().lstrip().lower()\n",
    "    database[productids[i]] = text"
   ]
  },
  {
   "cell_type": "code",
   "execution_count": null,
   "id": "3561ce33",
   "metadata": {},
   "outputs": [],
   "source": [
    "file1 = open('database.pkl', 'wb')\n",
    "import pickle\n",
    "pickle.dump(database,file1)"
   ]
  }
 ],
 "metadata": {
  "kernelspec": {
   "display_name": "Python 3",
   "language": "python",
   "name": "python3"
  },
  "language_info": {
   "codemirror_mode": {
    "name": "ipython",
    "version": 3
   },
   "file_extension": ".py",
   "mimetype": "text/x-python",
   "name": "python",
   "nbconvert_exporter": "python",
   "pygments_lexer": "ipython3",
   "version": "3.7.6"
  }
 },
 "nbformat": 4,
 "nbformat_minor": 5
}
