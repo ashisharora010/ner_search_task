{
 "cells": [
  {
   "cell_type": "code",
   "execution_count": 4,
   "id": "faee328e",
   "metadata": {},
   "outputs": [],
   "source": [
    "import pickle\n",
    "\n",
    "class TrieNode:\n",
    "    \"\"\"A node in the trie structure\"\"\"\n",
    "\n",
    "    def __init__(self, char):\n",
    "        # the character stored in this node\n",
    "        self.char = char\n",
    "\n",
    "        # whether this can be the end of a word\n",
    "        self.is_end = False\n",
    "\n",
    "        # a counter indicating how many times a word is inserted\n",
    "        # (if this node's is_end is True)\n",
    "        self.counter = 0\n",
    "\n",
    "        # a dictionary of child nodes\n",
    "        # keys are characters, values are nodes\n",
    "        self.children = {}\n",
    "        \n",
    "        self.productids = []\n",
    "\n",
    "\n",
    "class Trie(object):\n",
    "    \"\"\"The trie object\"\"\"\n",
    "\n",
    "    def __init__(self):\n",
    "        self.root = TrieNode(\"\")\n",
    "    \n",
    "    def insert(self, words):\n",
    "        node = self.root\n",
    "        word = words[0]\n",
    "        productid = words[1]\n",
    "        # Loop through each character in the word\n",
    "        # Check if there is no child containing the character, create a new child for the current node\n",
    "        for char in word:\n",
    "            if char in node.children:\n",
    "                node = node.children[char]\n",
    "            else:\n",
    "                # If a character is not found,\n",
    "                # create a new node in the trie\n",
    "                new_node = TrieNode(char)\n",
    "                node.children[char] = new_node\n",
    "                node = new_node\n",
    "        \n",
    "        # Mark the end of a word\n",
    "        node.is_end = True\n",
    "        node.productids.append(productid)\n",
    "        # Increment the counter to indicate that we see this word once more\n",
    "        node.counter += 1\n",
    "        \n",
    "    def dfs(self, node, prefix):\n",
    "        if node.is_end:\n",
    "            self.output.append((prefix + node.char, node.counter))\n",
    "            self.product_result.extend(node.productids)\n",
    "        \n",
    "        for child in node.children.values():\n",
    "            self.dfs(child, prefix + node.char)\n",
    "        \n",
    "    def query(self, x):\n",
    "        # Use a variable within the class to keep all possible outputs\n",
    "        # As there can be more than one word with such prefix\n",
    "        self.output = []\n",
    "        self.product_result = []\n",
    "        \n",
    "        node = self.root\n",
    "        \n",
    "        # Check if the prefix is in the trie\n",
    "        for char in x:\n",
    "            if char in node.children:\n",
    "                node = node.children[char]\n",
    "            else:\n",
    "                # cannot found the prefix, return empty list\n",
    "                return []\n",
    "        \n",
    "        # Traverse the trie to get all candidates\n",
    "        self.dfs(node, x[:-1])\n",
    "\n",
    "        # Sort the results in reverse order and return\n",
    "        return sorted(self.output, key=lambda x: x[1], reverse=True), self.product_result\n",
    "\n"
   ]
  },
  {
   "cell_type": "code",
   "execution_count": 19,
   "id": "2b65c990",
   "metadata": {},
   "outputs": [],
   "source": [
    "t_salt = Trie()\n",
    "t_mfs = Trie()\n",
    "t_name = Trie()"
   ]
  },
  {
   "cell_type": "code",
   "execution_count": 1,
   "id": "70ee9483",
   "metadata": {
    "collapsed": true,
    "jupyter": {
     "outputs_hidden": true
    }
   },
   "outputs": [
    {
     "ename": "FileNotFoundError",
     "evalue": "[Errno 2] No such file or directory: 'all_salts_all_milestone2_revised.pkl'",
     "output_type": "error",
     "traceback": [
      "\u001b[0;31m---------------------------------------------------------------------------\u001b[0m",
      "\u001b[0;31mFileNotFoundError\u001b[0m                         Traceback (most recent call last)",
      "\u001b[0;32m<ipython-input-1-cbc257af4390>\u001b[0m in \u001b[0;36m<module>\u001b[0;34m\u001b[0m\n\u001b[1;32m      1\u001b[0m \u001b[0;31m## all_salts.pkl\u001b[0m\u001b[0;34m\u001b[0m\u001b[0;34m\u001b[0m\u001b[0;34m\u001b[0m\u001b[0m\n\u001b[0;32m----> 2\u001b[0;31m \u001b[0mfile\u001b[0m \u001b[0;34m=\u001b[0m \u001b[0mopen\u001b[0m\u001b[0;34m(\u001b[0m\u001b[0;34m\"all_salts_all_milestone2_revised.pkl\"\u001b[0m\u001b[0;34m,\u001b[0m \u001b[0;34m\"rb\"\u001b[0m\u001b[0;34m)\u001b[0m\u001b[0;34m\u001b[0m\u001b[0;34m\u001b[0m\u001b[0m\n\u001b[0m\u001b[1;32m      3\u001b[0m \u001b[0mfinal_salt\u001b[0m \u001b[0;34m=\u001b[0m \u001b[0mpickle\u001b[0m\u001b[0;34m.\u001b[0m\u001b[0mload\u001b[0m\u001b[0;34m(\u001b[0m\u001b[0mfile\u001b[0m\u001b[0;34m)\u001b[0m\u001b[0;34m\u001b[0m\u001b[0;34m\u001b[0m\u001b[0m\n",
      "\u001b[0;31mFileNotFoundError\u001b[0m: [Errno 2] No such file or directory: 'all_salts_all_milestone2_revised.pkl'"
     ]
    }
   ],
   "source": [
    "## all_salts.pkl\n",
    "file = open(\"all_salts_all_milestone2_revised.pkl\", \"rb\")\n",
    "final_salt = pickle.load(file)"
   ]
  },
  {
   "cell_type": "code",
   "execution_count": 9,
   "id": "2bc34ea3",
   "metadata": {},
   "outputs": [],
   "source": [
    "## all_mfs.pkl\n",
    "file = open(\"all_mfs_all_milestone2_revised.pkl\", \"rb\")\n",
    "final_mfs = pickle.load(file)"
   ]
  },
  {
   "cell_type": "code",
   "execution_count": 16,
   "id": "7095bba8",
   "metadata": {},
   "outputs": [],
   "source": [
    "for elem in final_salt:\n",
    "    t_salt.insert((elem[0], elem[1]))"
   ]
  },
  {
   "cell_type": "code",
   "execution_count": 20,
   "id": "1a372819",
   "metadata": {},
   "outputs": [],
   "source": [
    "for elem in final_mfs:\n",
    "    t_mfs.insert((elem[0], elem[1]))"
   ]
  },
  {
   "cell_type": "code",
   "execution_count": 17,
   "id": "035ae1e4",
   "metadata": {
    "collapsed": true,
    "jupyter": {
     "outputs_hidden": true
    }
   },
   "outputs": [
    {
     "ename": "FileNotFoundError",
     "evalue": "[Errno 2] No such file or directory: 'all_names_all_milestone2_salt_revised.pkl'",
     "output_type": "error",
     "traceback": [
      "\u001b[0;31m---------------------------------------------------------------------------\u001b[0m",
      "\u001b[0;31mFileNotFoundError\u001b[0m                         Traceback (most recent call last)",
      "\u001b[0;32m<ipython-input-17-16b922769230>\u001b[0m in \u001b[0;36m<module>\u001b[0;34m\u001b[0m\n\u001b[1;32m      1\u001b[0m \u001b[0;31m## all_names.pkl\u001b[0m\u001b[0;34m\u001b[0m\u001b[0;34m\u001b[0m\u001b[0;34m\u001b[0m\u001b[0m\n\u001b[1;32m      2\u001b[0m \u001b[0;32mimport\u001b[0m \u001b[0mpickle\u001b[0m\u001b[0;34m\u001b[0m\u001b[0;34m\u001b[0m\u001b[0m\n\u001b[0;32m----> 3\u001b[0;31m \u001b[0mfile\u001b[0m \u001b[0;34m=\u001b[0m \u001b[0mopen\u001b[0m\u001b[0;34m(\u001b[0m\u001b[0;34m\"all_names_all_milestone2_salt_revised.pkl\"\u001b[0m\u001b[0;34m,\u001b[0m \u001b[0;34m\"rb\"\u001b[0m\u001b[0;34m)\u001b[0m\u001b[0;34m\u001b[0m\u001b[0;34m\u001b[0m\u001b[0m\n\u001b[0m\u001b[1;32m      4\u001b[0m \u001b[0mfinal_names\u001b[0m \u001b[0;34m=\u001b[0m \u001b[0mpickle\u001b[0m\u001b[0;34m.\u001b[0m\u001b[0mload\u001b[0m\u001b[0;34m(\u001b[0m\u001b[0mfile\u001b[0m\u001b[0;34m)\u001b[0m\u001b[0;34m\u001b[0m\u001b[0;34m\u001b[0m\u001b[0m\n",
      "\u001b[0;31mFileNotFoundError\u001b[0m: [Errno 2] No such file or directory: 'all_names_all_milestone2_salt_revised.pkl'"
     ]
    }
   ],
   "source": [
    "## all_names.pkl\n",
    "import pickle\n",
    "file = open(\"all_names_all_milestone2_revised.pkl\", \"rb\")\n",
    "final_names = pickle.load(file)"
   ]
  },
  {
   "cell_type": "code",
   "execution_count": 23,
   "id": "ad0b6291",
   "metadata": {},
   "outputs": [],
   "source": [
    "for elem in final_names:\n",
    "    t_name.insert((elem[0], elem[1]))"
   ]
  },
  {
   "cell_type": "code",
   "execution_count": 21,
   "id": "12ce71fd",
   "metadata": {},
   "outputs": [],
   "source": [
    "f = open('trie_milestone2_mfs_revised.pkl', 'wb')\n",
    "\n",
    "pickle.dump(t_mfs,f)\n",
    "\n",
    "f.close()"
   ]
  },
  {
   "cell_type": "code",
   "execution_count": null,
   "id": "a9045230",
   "metadata": {},
   "outputs": [],
   "source": [
    "f = open('trie_milestone2_salt_revised.pkl', 'wb')\n",
    "\n",
    "pickle.dump(t_salt,f)\n",
    "\n",
    "f.close()"
   ]
  },
  {
   "cell_type": "code",
   "execution_count": null,
   "id": "a93f1d75",
   "metadata": {},
   "outputs": [],
   "source": [
    "f = open('trie_milestone2_revised.pkl', 'wb')\n",
    "\n",
    "pickle.dump(t_name,f)\n",
    "\n",
    "f.close()"
   ]
  },
  {
   "cell_type": "code",
   "execution_count": null,
   "id": "cf500e7a",
   "metadata": {},
   "outputs": [],
   "source": []
  }
 ],
 "metadata": {
  "kernelspec": {
   "display_name": "Python 3",
   "language": "python",
   "name": "python3"
  },
  "language_info": {
   "codemirror_mode": {
    "name": "ipython",
    "version": 3
   },
   "file_extension": ".py",
   "mimetype": "text/x-python",
   "name": "python",
   "nbconvert_exporter": "python",
   "pygments_lexer": "ipython3",
   "version": "3.7.6"
  }
 },
 "nbformat": 4,
 "nbformat_minor": 5
}
